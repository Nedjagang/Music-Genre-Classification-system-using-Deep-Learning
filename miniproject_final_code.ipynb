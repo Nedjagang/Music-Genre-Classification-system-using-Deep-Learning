{
  "nbformat": 4,
  "nbformat_minor": 0,
  "metadata": {
    "colab": {
      "provenance": [],
      "private_outputs": true,
      "gpuType": "T4",
      "include_colab_link": true
    },
    "kernelspec": {
      "name": "python3",
      "display_name": "Python 3"
    },
    "language_info": {
      "name": "python"
    },
    "accelerator": "GPU",
    "gpuClass": "standard"
  },
  "cells": [
    {
      "cell_type": "markdown",
      "metadata": {
        "id": "view-in-github",
        "colab_type": "text"
      },
      "source": [
        "<a href=\"https://colab.research.google.com/github/Nedjagang/Music-Genre-Classification-system-using-Deep-Learning/blob/main/miniproject_final_code.ipynb\" target=\"_parent\"><img src=\"https://colab.research.google.com/assets/colab-badge.svg\" alt=\"Open In Colab\"/></a>"
      ]
    },
    {
      "cell_type": "code",
      "source": [
        "from google.colab import drive\n",
        "drive.mount('/content/drive')"
      ],
      "metadata": {
        "id": "WAsIjH2pfksJ"
      },
      "execution_count": null,
      "outputs": []
    },
    {
      "cell_type": "code",
      "execution_count": null,
      "metadata": {
        "id": "lrMnK-apG8RR"
      },
      "outputs": [],
      "source": [
        "import numpy as np\n",
        "import librosa, librosa.display\n",
        "import matplotlib.pyplot as plt"
      ]
    },
    {
      "cell_type": "code",
      "source": [
        "example_file = \"disco.00001.wav\""
      ],
      "metadata": {
        "id": "XEwNk7euPmX2"
      },
      "execution_count": null,
      "outputs": []
    },
    {
      "cell_type": "markdown",
      "source": [],
      "metadata": {
        "id": "7zIBa8Bvdduz"
      }
    },
    {
      "cell_type": "markdown",
      "source": [
        "load audio file with librosa"
      ],
      "metadata": {
        "id": "sFFyN2zYEbfc"
      }
    },
    {
      "cell_type": "code",
      "source": [
        "signal, sample_rate = librosa.load(example_file)"
      ],
      "metadata": {
        "id": "fX7gXGODKQ-L"
      },
      "execution_count": null,
      "outputs": []
    },
    {
      "cell_type": "code",
      "source": [
        "print(signal)"
      ],
      "metadata": {
        "id": "6mWOVJ7gKQ23"
      },
      "execution_count": null,
      "outputs": []
    },
    {
      "cell_type": "code",
      "source": [
        "print(sample_rate)"
      ],
      "metadata": {
        "id": "3vbA6XwjKRC1"
      },
      "execution_count": null,
      "outputs": []
    },
    {
      "cell_type": "code",
      "source": [
        "FIG_SIZE = (16,8)"
      ],
      "metadata": {
        "id": "kDYyual3Pdo4"
      },
      "execution_count": null,
      "outputs": []
    },
    {
      "cell_type": "markdown",
      "source": [
        "## waveform"
      ],
      "metadata": {
        "id": "I-pH3lj_G6Yo"
      }
    },
    {
      "cell_type": "code",
      "source": [
        "plt.figure(figsize=FIG_SIZE)\n",
        "librosa.display.waveshow(signal,alpha=0.6)\n",
        "plt.xlabel(\"Time (s)\")\n",
        "plt.ylabel(\"Amplitude\")\n",
        "plt.title(\"Waveform\")"
      ],
      "metadata": {
        "id": "hmXRQxHZGSCZ"
      },
      "execution_count": null,
      "outputs": []
    },
    {
      "cell_type": "markdown",
      "source": [
        "fourier transform(FFT) - frequency domain"
      ],
      "metadata": {
        "id": "-q7ebFiFHFBt"
      }
    },
    {
      "cell_type": "code",
      "source": [
        "fft=np.fft.fft(signal)"
      ],
      "metadata": {
        "id": "xKXx75_IKRFk"
      },
      "execution_count": null,
      "outputs": []
    },
    {
      "cell_type": "markdown",
      "source": [
        "calculate the magnitude (abs values on complex numbers)"
      ],
      "metadata": {
        "id": "HzyVjTtIHani"
      }
    },
    {
      "cell_type": "code",
      "source": [
        "spectrum =  np.abs(fft)"
      ],
      "metadata": {
        "id": "RMVB1s8PKRIL"
      },
      "execution_count": null,
      "outputs": []
    },
    {
      "cell_type": "markdown",
      "source": [
        "create the frequency variable"
      ],
      "metadata": {
        "id": "kELf6JApIeHL"
      }
    },
    {
      "cell_type": "code",
      "source": [
        "f = np.linspace(0,sample_rate,len(spectrum))"
      ],
      "metadata": {
        "id": "eynmbCOeKRKj"
      },
      "execution_count": null,
      "outputs": []
    },
    {
      "cell_type": "markdown",
      "source": [
        "plot spectrum"
      ],
      "metadata": {
        "id": "3ZzW8W5qI1iq"
      }
    },
    {
      "cell_type": "code",
      "source": [
        "plt.figure(figsize=FIG_SIZE)\n",
        "plt.plot(f,spectrum,alpha=0.5)\n",
        "plt.xlabel(\"Frequency\")\n",
        "plt.ylabel(\"Magnitude\")\n",
        "plt.title(\"Power Spectrum\")"
      ],
      "metadata": {
        "id": "ICWSAFPYKRM9"
      },
      "execution_count": null,
      "outputs": []
    },
    {
      "cell_type": "markdown",
      "source": [
        "take half of the spectrum and frequency"
      ],
      "metadata": {
        "id": "EXffOPdFJg-u"
      }
    },
    {
      "cell_type": "code",
      "source": [
        "left_spectrum = spectrum[:int(len(spectrum)/2)]\n",
        "left_f = f[:int(len(spectrum)/2)]"
      ],
      "metadata": {
        "id": "MFlisSQ-KRPb"
      },
      "execution_count": null,
      "outputs": []
    },
    {
      "cell_type": "markdown",
      "source": [
        "plot spectrum"
      ],
      "metadata": {
        "id": "ByPf35aFKI1v"
      }
    },
    {
      "cell_type": "code",
      "source": [
        "plt.figure(figsize=FIG_SIZE)\n",
        "plt.plot(left_f,left_spectrum,alpha=0.5)\n",
        "plt.xlabel(\"Frequency\")\n",
        "plt.ylabel(\"Magnitude\")\n",
        "plt.title(\"Power Spectrum\")"
      ],
      "metadata": {
        "id": "hrfWXW3AKRRz"
      },
      "execution_count": null,
      "outputs": []
    },
    {
      "cell_type": "markdown",
      "source": [
        "spectrogram(STFT)"
      ],
      "metadata": {
        "id": "-kGJVTy6MHHK"
      }
    },
    {
      "cell_type": "code",
      "source": [
        "hop_length=512 # num. of samples\n",
        "n_fft = 2048 # num. of samples foe window"
      ],
      "metadata": {
        "id": "KE0gLjf2KRUb"
      },
      "execution_count": null,
      "outputs": []
    },
    {
      "cell_type": "markdown",
      "source": [
        "perform STFT"
      ],
      "metadata": {
        "id": "dLdp8vQpMsv7"
      }
    },
    {
      "cell_type": "code",
      "source": [
        "stft= librosa.stft(signal, n_fft=n_fft, hop_length=hop_length)"
      ],
      "metadata": {
        "id": "ts-TFcHcM1v1"
      },
      "execution_count": null,
      "outputs": []
    },
    {
      "cell_type": "markdown",
      "source": [
        "calculate the magnitude(abs values on complex numbers)"
      ],
      "metadata": {
        "id": "d6KFRiawNK7L"
      }
    },
    {
      "cell_type": "code",
      "source": [
        "spectrogram = np.abs(stft)"
      ],
      "metadata": {
        "id": "WshgNYrHNWWs"
      },
      "execution_count": null,
      "outputs": []
    },
    {
      "cell_type": "markdown",
      "source": [
        "plot the spectrogram"
      ],
      "metadata": {
        "id": "Z5GbfFFxNosZ"
      }
    },
    {
      "cell_type": "code",
      "source": [
        "plt.figure(figsize=FIG_SIZE)\n",
        "librosa.display.specshow(spectrogram, sr=sample_rate, hop_length=hop_length)\n",
        "plt.xlabel(\"Time\")\n",
        "plt.ylabel(\"Frequency\")\n",
        "plt.colorbar()\n",
        "plt.title(\"Spectrogram\")"
      ],
      "metadata": {
        "id": "CltYE_MkNsVh"
      },
      "execution_count": null,
      "outputs": []
    },
    {
      "cell_type": "markdown",
      "source": [
        "apply logarithm to get values in decibles"
      ],
      "metadata": {
        "id": "Fo7pldEwP0Uz"
      }
    },
    {
      "cell_type": "code",
      "source": [
        "log_spectrogram = librosa.amplitude_to_db(spectrogram)"
      ],
      "metadata": {
        "id": "K5qB7m7kQAvk"
      },
      "execution_count": null,
      "outputs": []
    },
    {
      "cell_type": "markdown",
      "source": [
        "plot the spectrogram in decibles"
      ],
      "metadata": {
        "id": "D96Jn1N0QPsS"
      }
    },
    {
      "cell_type": "code",
      "source": [
        "plt.figure(figsize=FIG_SIZE)\n",
        "librosa.display.specshow(log_spectrogram, sr= sample_rate, hop_length= hop_length)\n",
        "plt.xlabel(\"Time\")\n",
        "plt.ylabel(\"Frequency\")\n",
        "plt.colorbar(format=\"+2.0f dB\")\n",
        "plt.title(\"Spectrogram (dB)\")"
      ],
      "metadata": {
        "id": "6G8It3XQQYXD"
      },
      "execution_count": null,
      "outputs": []
    },
    {
      "cell_type": "markdown",
      "source": [
        "MFCCs (we use 13 MFCCs)"
      ],
      "metadata": {
        "id": "-FtgWkEgRP9h"
      }
    },
    {
      "cell_type": "code",
      "source": [
        "help(librosa.feature.mfcc)"
      ],
      "metadata": {
        "id": "aFbAY_fun4KO"
      },
      "execution_count": null,
      "outputs": []
    },
    {
      "cell_type": "code",
      "source": [
        "MFCCs = librosa.feature.mfcc(y=signal, sr=sample_rate, n_fft=n_fft, hop_length=hop_length, n_mfcc=13)"
      ],
      "metadata": {
        "id": "t0nGPNeKRJW_"
      },
      "execution_count": null,
      "outputs": []
    },
    {
      "cell_type": "markdown",
      "source": [
        "plot MFCCs"
      ],
      "metadata": {
        "id": "iHAbgxL4R3pj"
      }
    },
    {
      "cell_type": "code",
      "source": [
        "plt.figure(figsize=FIG_SIZE)\n",
        "librosa.display.specshow(MFCCs, sr=sample_rate, n_fft=n_fft, hop_length=hop_length)\n",
        "plt.xlabel(\"Time\")\n",
        "plt.ylabel(\"MFCC coefficients\")\n",
        "plt.colorbar()\n",
        "plt.title(\"MFCCs\")"
      ],
      "metadata": {
        "id": "KND8dyhJR6gd"
      },
      "execution_count": null,
      "outputs": []
    },
    {
      "cell_type": "code",
      "source": [
        "import json\n",
        "import os\n",
        "import math"
      ],
      "metadata": {
        "id": "sRD9SiIlTYgt"
      },
      "execution_count": null,
      "outputs": []
    },
    {
      "cell_type": "code",
      "source": [
        "DATASET_PATH = \"/content/drive/MyDrive/mini project dataset/Data/genres_original\"\n",
        "JSON_PATH = \"/content/data_10.json\"\n",
        "SAMPLE_RATE = 22050\n",
        "TRACK_DURATION = 30 # measured in seconds\n",
        "SAMPLES_PER_TRACK = SAMPLE_RATE * TRACK_DURATION"
      ],
      "metadata": {
        "id": "4QhgMpn9U9-n"
      },
      "execution_count": null,
      "outputs": []
    },
    {
      "cell_type": "code",
      "source": [
        "def save_mfcc(DATASET_PATH, JSON_PATH, num_mfcc=13, n_fft=2048, hop_length=512,num_segments=5 ):\n",
        "  \"\"\"Extracts MFCCs from music dataset and saves them into a json file along with genre labels.\"\"\"\n",
        "  \n",
        "  #  dictonary to store mapping, labels, and MFCCs\n",
        "  data = {\n",
        "     \"mapping\":[],\n",
        "     \"labels\":[],\n",
        "     \"mfcc\":[]\n",
        "  }\n",
        "\n",
        "  samples_per_segment = int(SAMPLES_PER_TRACK /num_segments)\n",
        "  num_mfcc_vectors_per_segment = math.ceil(samples_per_segment / hop_length)\n",
        "\n",
        "\n",
        "  #loop through all genre sub-folder\n",
        "  for i,(dirpath, dirnames, filenames) in enumerate(os.walk(DATASET_PATH)):\n",
        "\n",
        "  #ensure we're processing a genre sub-folder level\n",
        "    if dirpath is not DATASET_PATH:\n",
        "\n",
        "\n",
        "      #save genre label (i.e., sub--folder name) in the mapping\n",
        "      semantic_label = dirpath.split(\"/\")[-1]\n",
        "      data[\"mapping\"].append(semantic_label)\n",
        "      print(\"\\nProcessing: {}\",format(semantic_label))\n",
        "\n",
        "      #process all audio files in genre sub-dir\n",
        "      for f in filenames:\n",
        "        #load audio file\n",
        "        file_path = os.path.join(dirpath,f)\n",
        "        signal, sample_rate = librosa.load(file_path, sr=SAMPLE_RATE)\n",
        "\n",
        "        #process all segments of audio file\n",
        "        for d in range(num_segments):\n",
        "\n",
        "          #calculate start and finish sample for current segment\n",
        "          start=samples_per_segment*d\n",
        "          finish=start+samples_per_segment\n",
        "\n",
        "          #extraxt mfcc\n",
        "          mfcc = librosa.feature.mfcc(y=signal[start:finish],sr=sample_rate, n_mfcc=num_mfcc, n_fft=n_fft, hop_length=hop_length)\n",
        "          mfcc = mfcc.T\n",
        "          \n",
        "          #store only mfcc feature with expected number of vectors\n",
        "          if len(mfcc) == num_mfcc_vectors_per_segment:\n",
        "            data[\"mfcc\"].append(mfcc.tolist())\n",
        "            data[\"labels\"].append(i-1)\n",
        "            print(\"{}, segment:{}\".format(file_path, d+1))\n",
        "\n",
        "  #save MFCCs to json file\n",
        "  with open(JSON_PATH, \"w\") as fp:\n",
        "        json.dump(data, fp, indent=4)"
      ],
      "metadata": {
        "id": "Rgas2bICWAga"
      },
      "execution_count": null,
      "outputs": []
    },
    {
      "cell_type": "code",
      "source": [
        "save_mfcc(DATASET_PATH, JSON_PATH,num_segments=10)"
      ],
      "metadata": {
        "id": "Fduy_pNRc8C4"
      },
      "execution_count": null,
      "outputs": []
    },
    {
      "cell_type": "code",
      "source": [
        "import json\n",
        "import numpy as np\n",
        "from sklearn.model_selection import train_test_split\n",
        "import tensorflow.keras as keras\n",
        "\n",
        "import matplotlib.pyplot as plt\n",
        "import random\n",
        "\n",
        "import librosa \n",
        "import math\n"
      ],
      "metadata": {
        "id": "7FI8_t9Gg4VA"
      },
      "execution_count": null,
      "outputs": []
    },
    {
      "cell_type": "code",
      "source": [
        "DATA_PATH = \"/content/data_10.json\""
      ],
      "metadata": {
        "id": "oWqnyQNvIc6u"
      },
      "execution_count": null,
      "outputs": []
    },
    {
      "cell_type": "code",
      "source": [
        "def load_data(data_path):\n",
        "  with open(data_path,\"r\") as f:\n",
        "    data = json.load(f)\n",
        "\n",
        "    #covert lists to numpy arrays\n",
        "    X = np.array(data[\"mfcc\"])\n",
        "    y = np.array(data[\"labels\"])\n",
        "    print(\"Data successfully loaded!\")\n",
        "    return X,y"
      ],
      "metadata": {
        "id": "g9RLPR1aIku1"
      },
      "execution_count": null,
      "outputs": []
    },
    {
      "cell_type": "markdown",
      "source": [
        "load data"
      ],
      "metadata": {
        "id": "Zsc0-8kmPOwf"
      }
    },
    {
      "cell_type": "code",
      "source": [
        "X,y = load_data(DATA_PATH)"
      ],
      "metadata": {
        "id": "Ih8uIhunIpaz"
      },
      "execution_count": null,
      "outputs": []
    },
    {
      "cell_type": "code",
      "source": [
        "X.shape"
      ],
      "metadata": {
        "id": "RK5QhRBJKNE5"
      },
      "execution_count": null,
      "outputs": []
    },
    {
      "cell_type": "markdown",
      "source": [
        "create train/test split"
      ],
      "metadata": {
        "id": "ZOCrNw2FO-Ed"
      }
    },
    {
      "cell_type": "code",
      "source": [
        "X_train, X_test, y_train, y_test = train_test_split(X, y, test_size=0.3)"
      ],
      "metadata": {
        "id": "hcIS2fyCKO8n"
      },
      "execution_count": null,
      "outputs": []
    },
    {
      "cell_type": "markdown",
      "source": [
        "Simple ANN"
      ],
      "metadata": {
        "id": "wQkqcOZCO0AX"
      }
    },
    {
      "cell_type": "code",
      "source": [
        "#build netwwork topology\n",
        "model = keras.Sequential([\n",
        "    \n",
        "    #input layer\n",
        "    keras.layers.Flatten(input_shape = (X.shape[1],X.shape[2])),\n",
        "    #1st dense layer\n",
        "    keras.layers.Dense(512, activation = 'relu'),\n",
        "    #2nd dense layer \n",
        "    keras.layers.Dense(256 ,activation ='relu'),\n",
        "    #3rd dense layer\n",
        "    keras.layers.Dense(64, activation= 'relu'),\n",
        "    #output layer\n",
        "    keras.layers.Dense(10, activation= 'softmax')\n",
        "])"
      ],
      "metadata": {
        "id": "jzE7NO2IKzva"
      },
      "execution_count": null,
      "outputs": []
    },
    {
      "cell_type": "markdown",
      "source": [
        "compile model"
      ],
      "metadata": {
        "id": "IIOt7IZhM-c6"
      }
    },
    {
      "cell_type": "code",
      "source": [
        "optimiser = keras.optimizers.Adam(learning_rate = 0.0001)\n",
        "# v = keras.losses.sparse_categorical_crossentropy\n",
        "model.compile(optimizer = optimiser, \n",
        "              loss= 'mean_squared_error',\n",
        "              metrics=['accuracy'])\n",
        "\n"
      ],
      "metadata": {
        "id": "8ZKVjmwjNDKS"
      },
      "execution_count": null,
      "outputs": []
    },
    {
      "cell_type": "code",
      "source": [
        "model.summary()"
      ],
      "metadata": {
        "id": "43Ezm7MzN3KD"
      },
      "execution_count": null,
      "outputs": []
    },
    {
      "cell_type": "markdown",
      "source": [
        "train model"
      ],
      "metadata": {
        "id": "HFRsShv4N5_N"
      }
    },
    {
      "cell_type": "code",
      "source": [
        "history = model.fit(X_train, y_train, validation_data=(X_test, y_test),batch_size=32,epochs=100)"
      ],
      "metadata": {
        "id": "Qo-n4064N6i4"
      },
      "execution_count": null,
      "outputs": []
    },
    {
      "cell_type": "code",
      "source": [
        "def plot_history(history):\n",
        "  fig, axs = plt.subplots(2)\n",
        "  #create accuracy subplot\n",
        "  axs[0].plot(history.history[\"accuracy\"], label = \"train accuracy\")\n",
        "  axs[0].plot(history.history[\"val_accuracy\"],label= \"test error\")\n",
        "  axs[0].set_ylabel(\"Accuracy\")\n",
        "  axs[0].legend(loc=\"lower right\")\n",
        "  axs[0].set_title(\"Accuracy eval\")\n",
        "  plt.show()"
      ],
      "metadata": {
        "id": "Adum-V8OrYmr"
      },
      "execution_count": null,
      "outputs": []
    },
    {
      "cell_type": "markdown",
      "source": [
        "plot accuracy and error as a function of epochs"
      ],
      "metadata": {
        "id": "YWMSD67ps6Dq"
      }
    },
    {
      "cell_type": "code",
      "source": [
        "plot_history(history)"
      ],
      "metadata": {
        "id": "gIzZTLAKtB_x"
      },
      "execution_count": null,
      "outputs": []
    },
    {
      "cell_type": "markdown",
      "source": [
        "Managing Overfitting"
      ],
      "metadata": {
        "id": "JE7STBRQtIX4"
      }
    },
    {
      "cell_type": "code",
      "source": [
        "#build network topology\n",
        "model_regularized = keras.Sequential ([\n",
        "    #input layer\n",
        "    keras.layers.Flatten(input_shape=(X.shape[1],X.shape[2])),\n",
        "    #1st dense layer\n",
        "    keras.layers.Dense(512, activation='relu', kernel_regularizer=keras.regularizers.l2(0.001)),\n",
        "    #2nd dense layer\n",
        "    keras.layers.Dense(256, activation='relu', kernel_regularizer=keras.regularizers.l2(0.001)),\n",
        "    keras.layers.Dropout(0.3),\n",
        "    #3rd dense layer\n",
        "    keras.layers.Dense(64, activation='relu', kernel_regularizer=keras.regularizers.l2(0.001)),\n",
        "    keras.layers.Dropout(0.3),\n",
        "    #output layer \n",
        "    keras.layers.Dense(10, activation='softmax')\n",
        "])"
      ],
      "metadata": {
        "id": "UaFWcB-vtSPE"
      },
      "execution_count": null,
      "outputs": []
    },
    {
      "cell_type": "markdown",
      "source": [
        "compile model"
      ],
      "metadata": {
        "id": "16WcOcc3wErR"
      }
    },
    {
      "cell_type": "code",
      "source": [
        "optimiser=keras.optimizers.Adam(learning_rate=0.0001)\n",
        "model_regularized.compile(optimizer=optimiser,\n",
        "                          loss='mean_squared_error',\n",
        "                          metrics=['accuracy'])"
      ],
      "metadata": {
        "id": "xpa1mi4mwIyI"
      },
      "execution_count": null,
      "outputs": []
    },
    {
      "cell_type": "markdown",
      "source": [
        "train model"
      ],
      "metadata": {
        "id": "uKq8_6cnw6RS"
      }
    },
    {
      "cell_type": "code",
      "source": [
        "history=model_regularized.fit(X_train, y_train, validation_data=(X_test, y_test),batch_size=32, epochs=5)"
      ],
      "metadata": {
        "id": "uBuquGA3w98I"
      },
      "execution_count": null,
      "outputs": []
    },
    {
      "cell_type": "markdown",
      "source": [
        "plot accuracy and error as a function of the epochs"
      ],
      "metadata": {
        "id": "HckoQiSzxZrN"
      }
    },
    {
      "cell_type": "code",
      "source": [
        "plot_history(history)"
      ],
      "metadata": {
        "id": "zUAFkoDVxajF"
      },
      "execution_count": null,
      "outputs": []
    },
    {
      "cell_type": "markdown",
      "source": [
        "Convolutional Neural Network"
      ],
      "metadata": {
        "id": "GnWccEMYxn_i"
      }
    },
    {
      "cell_type": "code",
      "source": [
        "#create train, validation and test split\n",
        "X_train,X_test, y_train, y_test = train_test_split(X,y,test_size=0.25)\n",
        "X_train, X_validation, y_train, y_validation = train_test_split(X_train, y_train, test_size=0.2)\n",
        "\n",
        "# add an axis to input sets\n",
        "X_train = X_train[..., np.newaxis]\n",
        "X_validation = X_validation[..., np.newaxis]\n",
        "X_test = X_test[..., np.newaxis]"
      ],
      "metadata": {
        "id": "kwVPrxLqxt7_"
      },
      "execution_count": null,
      "outputs": []
    },
    {
      "cell_type": "code",
      "source": [
        "X_train.shape"
      ],
      "metadata": {
        "id": "Q2WSLfubzmi-"
      },
      "execution_count": null,
      "outputs": []
    },
    {
      "cell_type": "code",
      "source": [
        "input_shape = (X_train.shape[1], X_train.shape[2],1)"
      ],
      "metadata": {
        "id": "ETOYXCcJzpt3"
      },
      "execution_count": null,
      "outputs": []
    },
    {
      "cell_type": "code",
      "source": [
        "#build the CNN\n",
        "from keras import Sequential\n",
        "model_cnn=Sequential()\n",
        "\n",
        "#1st conv layer \n",
        "model_cnn.add(keras.layers.Conv2D(32,(3,3),activation='relu',input_shape=input_shape))\n",
        "model_cnn.add(keras.layers.MaxPooling2D((3,3),strides=(2,2),padding='same'))\n",
        "model_cnn.add(keras.layers.BatchNormalization())\n",
        "\n",
        "#2nd conv layer\n",
        "model_cnn.add(keras.layers.Conv2D(32,(3,3),activation='relu'))\n",
        "model_cnn.add(keras.layers.MaxPooling2D((3,3),strides=(2,2),padding='same'))\n",
        "model_cnn.add(keras.layers.BatchNormalization())\n",
        "\n",
        "#3rd conv layer\n",
        "model_cnn.add(keras.layers.Conv2D(32,(2,2),activation='relu'))\n",
        "model_cnn.add(keras.layers.MaxPooling2D((2,2),strides=(2,2),padding='same'))\n",
        "model_cnn.add(keras.layers.BatchNormalization())\n",
        "\n",
        "#flatten output and feed it into dense layer\n",
        "model_cnn.add(keras.layers.Flatten())\n",
        "model_cnn.add(keras.layers.Dense(64, activation='relu'))\n",
        "model_cnn.add(keras.layers.Dropout(0.3))\n",
        "\n",
        "#output layer\n",
        "model_cnn.add(keras.layers.Dense(10, activation='softmax'))"
      ],
      "metadata": {
        "id": "WLmQarxi1a-M"
      },
      "execution_count": null,
      "outputs": []
    },
    {
      "cell_type": "markdown",
      "source": [
        "compile model"
      ],
      "metadata": {
        "id": "ZH5jZX-x5Ouh"
      }
    },
    {
      "cell_type": "code",
      "source": [
        "from scipy.optimize import optimize\n",
        "optimiser=keras.optimizers.Adam(learning_rate=0.0001)\n",
        "model_cnn.compile(optimizer=optimiser,\n",
        "                  loss='mean_squared_error',\n",
        "                  metrics=['accuracy'])"
      ],
      "metadata": {
        "id": "qbdovBp711SS"
      },
      "execution_count": null,
      "outputs": []
    },
    {
      "cell_type": "code",
      "source": [
        "model_cnn.summary()"
      ],
      "metadata": {
        "id": "b6NGUC1r54_6"
      },
      "execution_count": null,
      "outputs": []
    },
    {
      "cell_type": "markdown",
      "source": [
        "train model"
      ],
      "metadata": {
        "id": "8eNkile06ATd"
      }
    },
    {
      "cell_type": "code",
      "source": [
        "history=model_cnn.fit(X_train, y_train,validation_data=(X_validation, y_validation), batch_size=32,epochs=5)"
      ],
      "metadata": {
        "id": "KDbxfcNK6Hvf"
      },
      "execution_count": null,
      "outputs": []
    },
    {
      "cell_type": "markdown",
      "source": [
        "plot accuracy and error as a function of the epochs"
      ],
      "metadata": {
        "id": "P2KHtUWO6Igq"
      }
    },
    {
      "cell_type": "code",
      "source": [
        "plot_history(history)"
      ],
      "metadata": {
        "id": "3-ELsT6z6JTe"
      },
      "execution_count": null,
      "outputs": []
    },
    {
      "cell_type": "markdown",
      "source": [
        "evaluate model on test set"
      ],
      "metadata": {
        "id": "oL0tY9p263dT"
      }
    },
    {
      "cell_type": "code",
      "source": [
        "test_loss, test_acc = model_cnn.evaluate(X_test, y_test, verbose=2)\n",
        "print('\\nTest accuracy:',test_acc)"
      ],
      "metadata": {
        "id": "o0riqGtD66Np"
      },
      "execution_count": null,
      "outputs": []
    },
    {
      "cell_type": "code",
      "source": [
        "model_cnn.save(\"Music_Genre_10_CNN\")"
      ],
      "metadata": {
        "id": "IsqkJFmP64oC"
      },
      "execution_count": null,
      "outputs": []
    },
    {
      "cell_type": "code",
      "source": [
        "model_cnn.save(\"Music_Genre_10_CNN.h5\")"
      ],
      "metadata": {
        "id": "msirgthf7lO4"
      },
      "execution_count": null,
      "outputs": []
    },
    {
      "cell_type": "markdown",
      "source": [
        "it can be used to construct model identically"
      ],
      "metadata": {
        "id": "LzSvOUGf8mFu"
      }
    },
    {
      "cell_type": "code",
      "source": [
        "reconstructed_model=keras.models.load_model(\"Music_Genre_10_CNN.h5\")"
      ],
      "metadata": {
        "id": "hTp3Rxau7lZU"
      },
      "execution_count": null,
      "outputs": []
    },
    {
      "cell_type": "markdown",
      "source": [
        "Prediction on Test Set"
      ],
      "metadata": {
        "id": "FN05orIX76Ed"
      }
    },
    {
      "cell_type": "code",
      "source": [
        "#pick a sample to predict from the test set\n",
        "X_to_predict = X_test[100]\n",
        "y_to_predict = y_test[100]"
      ],
      "metadata": {
        "id": "wz0F9qri89DA"
      },
      "execution_count": null,
      "outputs": []
    },
    {
      "cell_type": "code",
      "source": [
        "X_to_predict.shape"
      ],
      "metadata": {
        "id": "fcMDSET-9kDY"
      },
      "execution_count": null,
      "outputs": []
    },
    {
      "cell_type": "code",
      "source": [
        "print(\"real Genre:\",y_to_predict)"
      ],
      "metadata": {
        "id": "vVa_PrjR9o5u"
      },
      "execution_count": null,
      "outputs": []
    },
    {
      "cell_type": "markdown",
      "source": [
        "add a dimension to input data foe sample - model.predict() expects a 4d array in this case"
      ],
      "metadata": {
        "id": "uLiEr8gU9xkj"
      }
    },
    {
      "cell_type": "code",
      "source": [
        "X_to_predict = X_to_predict[np.newaxis, ...]# array shape(1,130,13,1)"
      ],
      "metadata": {
        "id": "mZhAQ7PO9xFE"
      },
      "execution_count": null,
      "outputs": []
    },
    {
      "cell_type": "code",
      "source": [
        "X_to_predict.shape"
      ],
      "metadata": {
        "id": "Qtf9yQkC-l3Y"
      },
      "execution_count": null,
      "outputs": []
    },
    {
      "cell_type": "markdown",
      "source": [
        "perform prediction"
      ],
      "metadata": {
        "id": "VhN3-tZ8-uMU"
      }
    },
    {
      "cell_type": "code",
      "source": [
        "prediction = model_cnn.predict(X_to_predict)"
      ],
      "metadata": {
        "id": "Bm9v8z9X-tgn"
      },
      "execution_count": null,
      "outputs": []
    },
    {
      "cell_type": "markdown",
      "source": [
        "get index with max value"
      ],
      "metadata": {
        "id": "7cFaAWOQ-9nB"
      }
    },
    {
      "cell_type": "code",
      "source": [
        "predicted_index = np.argmax(prediction, axis=1)\n",
        "print(\"Predicted Genre:\",int(predicted_index))"
      ],
      "metadata": {
        "id": "7XAOrIOJ-9P8"
      },
      "execution_count": null,
      "outputs": []
    },
    {
      "cell_type": "markdown",
      "source": [
        "pick a sample to predict from the test set"
      ],
      "metadata": {
        "id": "RJXOQyYm_qWV"
      }
    },
    {
      "cell_type": "code",
      "source": [
        "X_to_predict = X_test[50]\n",
        "y_to_predict = y_test[50]\n",
        "print(\"Real Genre:\",y_to_predict)\n",
        "X_to_predict= X_to_predict[np.newaxis, ...]\n",
        "prediction = model_cnn.predict(X_to_predict)"
      ],
      "metadata": {
        "id": "jQ_kr5Hv_p8Z"
      },
      "execution_count": null,
      "outputs": []
    },
    {
      "cell_type": "markdown",
      "source": [
        "get index with max value"
      ],
      "metadata": {
        "id": "2C8GO51eAksh"
      }
    },
    {
      "cell_type": "code",
      "source": [
        "predicted_index=np.argmax(prediction, axis=1)\n",
        "print(\"Predicted Genre:\",int(predicted_index))"
      ],
      "metadata": {
        "id": "6sblDiF8AkTC"
      },
      "execution_count": null,
      "outputs": []
    },
    {
      "cell_type": "code",
      "source": [
        "len(X_test)"
      ],
      "metadata": {
        "id": "jdxVApXoBEhp"
      },
      "execution_count": null,
      "outputs": []
    },
    {
      "cell_type": "code",
      "source": [
        "for n in range(10):\n",
        "  i = random.randint(0,len(X_test)-1)\n",
        "  # pick a samole to predict from the test\n",
        "  X_to_predict = X_test[i]\n",
        "  y_to_predict = y_test[i]\n",
        "  print(\"\\nReal Genre:\",y_to_predict)\n",
        "  X_to_predict = X_to_predict[np.newaxis, ...]\n",
        "  prediction = model_cnn.predict(X_to_predict)\n",
        "\n",
        "  #get index with max value\n",
        "  predicted_index = np.argmax(prediction, axis=1)\n",
        "  print(\"Predicted Genre:\",int(predicted_index))"
      ],
      "metadata": {
        "id": "qL8COqYTBRNh"
      },
      "execution_count": null,
      "outputs": []
    },
    {
      "cell_type": "markdown",
      "source": [
        "Prediction on New Songs"
      ],
      "metadata": {
        "id": "FZ2SMI2f5s4i"
      }
    },
    {
      "cell_type": "code",
      "source": [
        "# audio files pre-processing\n",
        "def process_input(audio_file, track_duration):\n",
        "\n",
        "  SAMPLE_RATE = 22050\n",
        "  NUM_MFCC = 13\n",
        "  N_FFT = 2048\n",
        "  HOP_LENGTH = 512\n",
        "  TRACK_DURATION = track_duration #measured in seconds\n",
        "  SAMPLES_PER_TRACK = SAMPLE_RATE * TRACK_DURATION\n",
        "  NUM_SEGMENTS =10\n",
        "\n",
        "  samples_per_segment=int(SAMPLES_PER_TRACK/NUM_SEGMENTS)\n",
        "  num_mfcc_vectors_per_segment=math.ceil(samples_per_segment/HOP_LENGTH)\n",
        "\n",
        "  signal, sample_rate = librosa.load(audio_file, sr=SAMPLE_RATE)\n",
        "\n",
        "  for d in range(10):\n",
        "\n",
        "    #calcuate start and finish sample for current segment\n",
        "    start = samples_per_segment*d\n",
        "    finish=start + samples_per_segment\n",
        "\n",
        "    #extract mfcc\n",
        "    mfcc = librosa.feature.mfcc(y=signal[start:finish],sr=sample_rate, n_mfcc = NUM_MFCC, n_fft = N_FFT, hop_length = HOP_LENGTH)\n",
        "    mfcc = mfcc.T\n",
        "\n",
        "    return mfcc"
      ],
      "metadata": {
        "id": "Vc88NBGOBZ8-"
      },
      "execution_count": null,
      "outputs": []
    },
    {
      "cell_type": "code",
      "source": [
        "genre_dict = {0:\"hiphop\", 1:\"country\", 2:\"jazz\", 3:\"classica\", 4:\"metal\", 5:\"pop\", 6:\"rock\", 7:\"blues\", 8:\"reggae\", 9:\"disco\"}"
      ],
      "metadata": {
        "id": "ZjfZxt0T-jH_"
      },
      "execution_count": null,
      "outputs": []
    },
    {
      "cell_type": "code",
      "source": [
        "new_input_mfcc= process_input('/content/disco.00001.wav',30)"
      ],
      "metadata": {
        "id": "SGs_xmL9_G8m"
      },
      "execution_count": null,
      "outputs": []
    },
    {
      "cell_type": "code",
      "source": [
        "type(new_input_mfcc)"
      ],
      "metadata": {
        "id": "f1PmXTrW_hF8"
      },
      "execution_count": null,
      "outputs": []
    },
    {
      "cell_type": "code",
      "source": [
        "new_input_mfcc.shape"
      ],
      "metadata": {
        "id": "6AhooZWy_2_v"
      },
      "execution_count": null,
      "outputs": []
    },
    {
      "cell_type": "code",
      "source": [
        "X_to_predict = new_input_mfcc[np.newaxis, ..., np.newaxis]\n",
        "X_to_predict.shape"
      ],
      "metadata": {
        "id": "qHnWTpjH_7z5"
      },
      "execution_count": null,
      "outputs": []
    },
    {
      "cell_type": "code",
      "source": [
        "prediction = model_cnn.predict(X_to_predict)\n",
        "\n",
        "#get index with max value\n",
        "predicted_index = np.argmax(prediction,axis=1)\n",
        "print(\"Predicted Genre:\",genre_dict[int(predicted_index)])"
      ],
      "metadata": {
        "id": "UknT5gKGAawy"
      },
      "execution_count": null,
      "outputs": []
    },
    {
      "cell_type": "code",
      "source": [
        "new_input_mfcc = process_input('/content/disco.00001.wav',30)                                        "
      ],
      "metadata": {
        "id": "sl0twJZ-BLEm"
      },
      "execution_count": null,
      "outputs": []
    },
    {
      "cell_type": "code",
      "source": [
        "X_to_predict = new_input_mfcc[np.newaxis, ..., np.newaxis]\n",
        "X_to_predict.shape"
      ],
      "metadata": {
        "id": "GGvcPRb4BSVK"
      },
      "execution_count": null,
      "outputs": []
    },
    {
      "cell_type": "code",
      "source": [
        "prediction = model_cnn.predict(X_to_predict)\n",
        "\n",
        "# get index with max value\n",
        "predicted_index = np.argmax(prediction, axis=1)\n",
        "\n",
        "print(\"Predicted Genre:\",genre_dict[int(predicted_index)])"
      ],
      "metadata": {
        "id": "sIksR5vnBxJ9"
      },
      "execution_count": null,
      "outputs": []
    },
    {
      "cell_type": "code",
      "source": [],
      "metadata": {
        "id": "DbMRh_pMEGW9"
      },
      "execution_count": null,
      "outputs": []
    }
  ]
}